{
 "cells": [
  {
   "cell_type": "code",
   "execution_count": null,
   "metadata": {},
   "outputs": [],
   "source": [
    "import pandas as pd\n",
    "import ast\n",
    "pd.set_option('display.max_columns', None)\n",
    "\n",
    "df = pd.read_excel(\"kolkata_cars.xlsx\")\n",
    "length = len(df)\n",
    "df.columns"
   ]
  },
  {
   "cell_type": "markdown",
   "metadata": {},
   "source": [
    "New_Car_Details"
   ]
  },
  {
   "cell_type": "code",
   "execution_count": null,
   "metadata": {},
   "outputs": [],
   "source": [
    "\n",
    "data_list = df['new_car_detail'].to_list()\n",
    "\n",
    "# Function to convert string to dictionary\n",
    "def to_dict(data):\n",
    "    if isinstance(data,str):\n",
    "        try:\n",
    "            return ast.literal_eval(data)\n",
    "        except(ValueError,SyntaxError):\n",
    "            return {}\n",
    "    return data\n",
    "\n",
    "data_list = [to_dict(item) for item in data_list]\n",
    "\n",
    "new_car_detail_flatened_data = pd.DataFrame(data_list)\n",
    "new_car_detail_flatened_data['row index'] = range(length)\n",
    "\n",
    "# # Function to flatten a single dictionary\n",
    "# def flatten_dict(data):\n",
    "#     if not isinstance(data, dict):\n",
    "#         return {}\n",
    "    \n",
    "#     if 'trendingText' in data:\n",
    "#         # Flatten the nested dictionary\n",
    "#         flat_data = {\n",
    "#             **data,  # Unpack the main dictionary\n",
    "#             **{f'trendingText_{k}': v for k, v in data['trendingText'].items()}  # Flatten the nested dictionary\n",
    "#         }\n",
    "#         del flat_data['trendingText']  # Remove the original nested dictionary\n",
    "#     else:\n",
    "#         # If 'trendingText' key is missing, just return the data as is\n",
    "#         flat_data = data\n",
    "#     return flat_data\n",
    "# flattened_data_list = [flatten_dict(row) for row in data_list]"
   ]
  },
  {
   "cell_type": "markdown",
   "metadata": {},
   "source": [
    "New_Car_Overview"
   ]
  },
  {
   "cell_type": "code",
   "execution_count": null,
   "metadata": {},
   "outputs": [],
   "source": [
    "import pandas as pd\n",
    "import ast\n",
    "\n",
    "# Convert each string to a dictionary\n",
    "nested_dict_list = [ast.literal_eval(d) for d in df['new_car_overview']]\n",
    "\n",
    "# Function to extract and flatten each dictionary\n",
    "def extract_flatten_dict(nested_dict):\n",
    "    if 'top' in nested_dict:\n",
    "        top_data = nested_dict['top']\n",
    "        df = pd.DataFrame(top_data)\n",
    "        df = df.drop(columns=['icon'], errors='ignore')  # Drop the 'icon' column if present\n",
    "        return df.set_index('key').T\n",
    "    else:\n",
    "        return pd.DataFrame()\n",
    "\n",
    "# Extract and flatten all dictionaries\n",
    "df_list = [extract_flatten_dict(d) for d in nested_dict_list]\n",
    "\n",
    "# Concatenate all DataFrames into one\n",
    "new_car_overview_df_combined = pd.concat(df_list, ignore_index=True)\n",
    "\n",
    "new_car_overview_df_combined['row index'] = range(length)\n"
   ]
  },
  {
   "cell_type": "markdown",
   "metadata": {},
   "source": [
    "Car_Feature"
   ]
  },
  {
   "cell_type": "code",
   "execution_count": null,
   "metadata": {},
   "outputs": [],
   "source": [
    "def extract_features(data_dict):\n",
    "    # Extract top features\n",
    "    top_features = [item['value'] for item in data_dict.get('top', [])]\n",
    "    \n",
    "    # Extract detailed features\n",
    "    detailed_features = []\n",
    "    for category in data_dict.get('data', []):\n",
    "        heading = category.get('heading', '')\n",
    "        subHeading = category.get('subHeading', '')\n",
    "        for item in category.get('list', []):\n",
    "            detailed_features.append({\n",
    "                'Category': heading,\n",
    "                'SubCategory': subHeading,\n",
    "                'Feature': item['value']\n",
    "            })\n",
    "    \n",
    "    df_top = pd.DataFrame(top_features, columns=['Top Feature'])\n",
    "    df_detailed = pd.DataFrame(detailed_features)\n",
    "    \n",
    "    return df_top, df_detailed\n",
    "\n",
    "df_ = pd.DataFrame(df, columns=['new_car_feature'])\n",
    "\n",
    "top_features_list = []\n",
    "detailed_features_list = []\n",
    "\n",
    "# Process each row\n",
    "for index, row in df_.iterrows():\n",
    "    # Convert the string to a dictionary\n",
    "    try:\n",
    "        data_dict = ast.literal_eval(row['new_car_feature'])\n",
    "    except (ValueError, SyntaxError):\n",
    "        print(f\"Error parsing row {index}\")\n",
    "        continue\n",
    "    \n",
    "    # Extract features\n",
    "    df_top_features, df_detailed_features = extract_features(data_dict)\n",
    "    \n",
    "    # Add row index for reference\n",
    "    df_top_features['Row Index'] = index\n",
    "    df_detailed_features['Row Index'] = index\n",
    "    \n",
    "    # Append to lists\n",
    "    top_features_list.append(df_top_features)\n",
    "    detailed_features_list.append(df_detailed_features)\n",
    "\n",
    "# Combine all DataFrames\n",
    "df_top_combined = pd.concat(top_features_list, ignore_index=True)\n",
    "df_detailed_combined = pd.concat(detailed_features_list, ignore_index=True)\n",
    "\n",
    "df_top_pivot = df_top_combined.groupby('Row Index')['Top Feature'].apply(lambda x: ', '.join(x)).reset_index()\n",
    "\n",
    "# Rename columns\n",
    "df_top_pivot.columns = ['row index', 'Top Features']\n"
   ]
  },
  {
   "cell_type": "markdown",
   "metadata": {},
   "source": [
    "New_Car_Specs"
   ]
  },
  {
   "cell_type": "code",
   "execution_count": null,
   "metadata": {},
   "outputs": [],
   "source": [
    "car_spec_list = df['new_car_specs'].to_list()\n",
    "\n",
    "# Define a function to process each row and extract key-value pairs\n",
    "def extract_key_values(data):\n",
    "    # Convert string to dictionary\n",
    "    nested_dict = ast.literal_eval(data)\n",
    "    \n",
    "    # Extract key-value pairs from the 'data' section\n",
    "    data_list = nested_dict.get('data', [])\n",
    "    key_value_dict = {}\n",
    "    for item in data_list:\n",
    "        for kv in item.get('list', []):\n",
    "            key_value_dict[kv['key']] = kv['value']\n",
    "    return key_value_dict\n",
    "\n",
    "df = pd.DataFrame({\n",
    "    'new_car_specs': car_spec_list\n",
    "})\n",
    "\n",
    "df['key_value_dict'] = df['new_car_specs'].apply(extract_key_values)\n",
    "\n",
    "key_value_df = pd.json_normalize(df['key_value_dict'])\n",
    "key_value_df['row index'] = range(length)\n"
   ]
  },
  {
   "cell_type": "markdown",
   "metadata": {},
   "source": [
    "Merge all column data into one"
   ]
  },
  {
   "cell_type": "code",
   "execution_count": null,
   "metadata": {},
   "outputs": [],
   "source": [
    "merged_df = pd.merge(new_car_detail_flatened_data, new_car_overview_df_combined, on='row index', how='outer')\n",
    "\n",
    "merged_df = pd.merge(merged_df, df_top_pivot, on='row index', how='outer')\n",
    "\n",
    "merged_df = pd.merge(merged_df, key_value_df, on='row index', how='outer')\n"
   ]
  },
  {
   "cell_type": "markdown",
   "metadata": {},
   "source": [
    "normalise the column name"
   ]
  },
  {
   "cell_type": "code",
   "execution_count": null,
   "metadata": {},
   "outputs": [],
   "source": [
    "merged_df.columns = merged_df.columns.str.lower()\n",
    "merged_df.columns = merged_df.columns.str.replace(\" \",\"_\")"
   ]
  },
  {
   "cell_type": "markdown",
   "metadata": {},
   "source": [
    "save to csv"
   ]
  },
  {
   "cell_type": "code",
   "execution_count": null,
   "metadata": {},
   "outputs": [],
   "source": [
    "merged_df['city'] = \"kolkata\"\n",
    "merged_df.to_csv('kolkata.csv')"
   ]
  }
 ],
 "metadata": {
  "kernelspec": {
   "display_name": "Python 3",
   "language": "python",
   "name": "python3"
  },
  "language_info": {
   "codemirror_mode": {
    "name": "ipython",
    "version": 3
   },
   "file_extension": ".py",
   "mimetype": "text/x-python",
   "name": "python",
   "nbconvert_exporter": "python",
   "pygments_lexer": "ipython3",
   "version": "3.12.2"
  }
 },
 "nbformat": 4,
 "nbformat_minor": 2
}
