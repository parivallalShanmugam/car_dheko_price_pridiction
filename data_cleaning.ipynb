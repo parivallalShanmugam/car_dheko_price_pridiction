{
 "cells": [
  {
   "cell_type": "markdown",
   "metadata": {},
   "source": [
    " Data Processing"
   ]
  },
  {
   "cell_type": "code",
   "execution_count": 272,
   "metadata": {},
   "outputs": [],
   "source": [
    "# import pandas as pd\n",
    "# import glob\n",
    "\n",
    "# # Path to the directory containing CSV files\n",
    "# file_path_pattern = 'D:/guvi/car_dheko_price_prediction/car_dheko_price_pridiction/*.csv'\n",
    "\n",
    "# # List all CSV files\n",
    "# csv_files = glob.glob(file_path_pattern)\n",
    "\n",
    "# # Read and concatenate CSV files\n",
    "# dfs = [pd.read_csv(file) for file in csv_files]\n",
    "# combined_df = pd.concat(dfs, ignore_index=True)\n",
    "\n",
    "# # Reset index\n",
    "# combined_df.reset_index(drop=True, inplace=True)\n",
    "\n",
    "# # Save the combined DataFrame to a new CSV file\n",
    "# combined_df.to_csv('combined_file.csv', index=False)\n",
    "\n",
    "# print(\"CSV files combined successfully!\")\n"
   ]
  },
  {
   "cell_type": "code",
   "execution_count": 305,
   "metadata": {},
   "outputs": [
    {
     "name": "stderr",
     "output_type": "stream",
     "text": [
      "C:\\Users\\New\\AppData\\Local\\Temp\\ipykernel_24084\\1758945192.py:6: DtypeWarning: Columns (14) have mixed types. Specify dtype option on import or set low_memory=False.\n",
      "  df = pd.read_csv(\"combined_file.csv\")\n"
     ]
    }
   ],
   "source": [
    "import pandas as pd\n",
    "import re\n",
    "\n",
    "pd.set_option('display.max_columns', None)\n",
    "\n",
    "df = pd.read_csv(\"combined_file.csv\")\n",
    "\n",
    "# print(df.shape)\n",
    "# print(df.info())"
   ]
  },
  {
   "cell_type": "markdown",
   "metadata": {},
   "source": [
    "cleaning & null imputation"
   ]
  },
  {
   "cell_type": "code",
   "execution_count": 306,
   "metadata": {},
   "outputs": [],
   "source": [
    "# extract only numbers\n",
    "df['km'] = df['km'].str.replace(\",\",\"\")\n",
    "df['km'] = pd.to_numeric(df['km'])\n",
    "\n",
    "#cargo_volumn\n",
    "df['cargo_volumn'] = df['cargo_volumn'].astype(str)\n",
    "df['cargo_volumn'] = df['cargo_volumn'].str.extract(r'(\\d+)')  \n",
    "df['cargo_volumn'] = pd.to_numeric(df['cargo_volumn'])  \n",
    "df['cargo_volumn'] = df['cargo_volumn'].fillna(df['cargo_volumn'].mean()).astype(int) \n",
    "\n",
    "#price convert to int \n",
    "def convert_to_int(value):\n",
    "    if pd.isna(value):\n",
    "        return None  # or `float('nan')` if you prefer\n",
    "\n",
    "    value = value.replace('₹', '').strip()\n",
    "    \n",
    "    # Handle 'Lakh' and 'Crore'\n",
    "    if 'Lakh' in value:\n",
    "        value = value.replace('Lakh', '').strip()\n",
    "        multiplier = 1e5  \n",
    "    elif 'Crore' in value:\n",
    "        value = value.replace('Crore', '').strip()\n",
    "        multiplier = 1e7 \n",
    "    else:\n",
    "        multiplier = 1  \n",
    "\n",
    "    # Remove any commas\n",
    "    value = value.replace(',', '')\n",
    "\n",
    "    try:\n",
    "        # Convert to float and then to int\n",
    "        return int(float(value) * multiplier)\n",
    "    except ValueError:\n",
    "        return None  # or `float('nan')` if you prefer\n",
    "\n",
    "\n",
    "# Apply the function to the 'price' column\n",
    "df['price'] = df['price'].apply(convert_to_int)\n"
   ]
  },
  {
   "cell_type": "code",
   "execution_count": 307,
   "metadata": {},
   "outputs": [],
   "source": [
    "# List of columns to keep\n",
    "columns_to_keep = [\n",
    "    'city','ft', 'bt', 'km', 'transmission', 'ownerno', 'model', \n",
    "    'modelyear', 'color', \n",
    "    'cargo_volumn' , 'price'\n",
    "]\n",
    "\n",
    "# Creating a new DataFrame with only the specified columns\n",
    "df_filtered = df[columns_to_keep]\n"
   ]
  },
  {
   "cell_type": "code",
   "execution_count": 276,
   "metadata": {},
   "outputs": [],
   "source": [
    "# from sklearn.impute import KNNImputer\n",
    "# import numpy as np\n",
    "\n",
    "# df = pd.DataFrame({\n",
    "#     'A': [1, 2, np.nan, 4, 5],\n",
    "#     'B': [5, np.nan, 7, 8, 10]\n",
    "# })\n",
    "\n",
    "# imputer = KNNImputer(n_neighbors=2)\n",
    "# df_imputed = imputer.fit_transform(df)\n",
    "\n",
    "# print(pd.DataFrame(df_imputed, columns=df.columns))\n"
   ]
  },
  {
   "cell_type": "code",
   "execution_count": 308,
   "metadata": {},
   "outputs": [
    {
     "data": {
      "text/html": [
       "<div>\n",
       "<style scoped>\n",
       "    .dataframe tbody tr th:only-of-type {\n",
       "        vertical-align: middle;\n",
       "    }\n",
       "\n",
       "    .dataframe tbody tr th {\n",
       "        vertical-align: top;\n",
       "    }\n",
       "\n",
       "    .dataframe thead th {\n",
       "        text-align: right;\n",
       "    }\n",
       "</style>\n",
       "<table border=\"1\" class=\"dataframe\">\n",
       "  <thead>\n",
       "    <tr style=\"text-align: right;\">\n",
       "      <th></th>\n",
       "      <th>city</th>\n",
       "      <th>ft</th>\n",
       "      <th>bt</th>\n",
       "      <th>km</th>\n",
       "      <th>transmission</th>\n",
       "      <th>ownerno</th>\n",
       "      <th>model</th>\n",
       "      <th>modelyear</th>\n",
       "      <th>color</th>\n",
       "      <th>cargo_volumn</th>\n",
       "      <th>price</th>\n",
       "    </tr>\n",
       "  </thead>\n",
       "  <tbody>\n",
       "    <tr>\n",
       "      <th>0</th>\n",
       "      <td>bangalore</td>\n",
       "      <td>Petrol</td>\n",
       "      <td>Hatchback</td>\n",
       "      <td>120000</td>\n",
       "      <td>Manual</td>\n",
       "      <td>3</td>\n",
       "      <td>Maruti Celerio</td>\n",
       "      <td>2015</td>\n",
       "      <td>White</td>\n",
       "      <td>235</td>\n",
       "      <td>400000</td>\n",
       "    </tr>\n",
       "    <tr>\n",
       "      <th>1</th>\n",
       "      <td>bangalore</td>\n",
       "      <td>Petrol</td>\n",
       "      <td>SUV</td>\n",
       "      <td>32706</td>\n",
       "      <td>Manual</td>\n",
       "      <td>2</td>\n",
       "      <td>Ford Ecosport</td>\n",
       "      <td>2018</td>\n",
       "      <td>White</td>\n",
       "      <td>352</td>\n",
       "      <td>811000</td>\n",
       "    </tr>\n",
       "    <tr>\n",
       "      <th>2</th>\n",
       "      <td>bangalore</td>\n",
       "      <td>Petrol</td>\n",
       "      <td>Hatchback</td>\n",
       "      <td>11949</td>\n",
       "      <td>Manual</td>\n",
       "      <td>1</td>\n",
       "      <td>Tata Tiago</td>\n",
       "      <td>2018</td>\n",
       "      <td>Red</td>\n",
       "      <td>242</td>\n",
       "      <td>585000</td>\n",
       "    </tr>\n",
       "  </tbody>\n",
       "</table>\n",
       "</div>"
      ],
      "text/plain": [
       "        city      ft         bt      km transmission  ownerno           model  \\\n",
       "0  bangalore  Petrol  Hatchback  120000       Manual        3  Maruti Celerio   \n",
       "1  bangalore  Petrol        SUV   32706       Manual        2   Ford Ecosport   \n",
       "2  bangalore  Petrol  Hatchback   11949       Manual        1      Tata Tiago   \n",
       "\n",
       "   modelyear  color  cargo_volumn   price  \n",
       "0       2015  White           235  400000  \n",
       "1       2018  White           352  811000  \n",
       "2       2018    Red           242  585000  "
      ]
     },
     "execution_count": 308,
     "metadata": {},
     "output_type": "execute_result"
    }
   ],
   "source": [
    "df_filtered.head(3)"
   ]
  },
  {
   "cell_type": "code",
   "execution_count": 309,
   "metadata": {},
   "outputs": [
    {
     "name": "stdout",
     "output_type": "stream",
     "text": [
      "<class 'pandas.core.frame.DataFrame'>\n",
      "RangeIndex: 8369 entries, 0 to 8368\n",
      "Data columns (total 11 columns):\n",
      " #   Column        Non-Null Count  Dtype \n",
      "---  ------        --------------  ----- \n",
      " 0   city          8369 non-null   object\n",
      " 1   ft            8369 non-null   object\n",
      " 2   bt            8365 non-null   object\n",
      " 3   km            8369 non-null   int64 \n",
      " 4   transmission  8369 non-null   object\n",
      " 5   ownerno       8369 non-null   int64 \n",
      " 6   model         8369 non-null   object\n",
      " 7   modelyear     8369 non-null   int64 \n",
      " 8   color         8366 non-null   object\n",
      " 9   cargo_volumn  8369 non-null   int32 \n",
      " 10  price         8369 non-null   int64 \n",
      "dtypes: int32(1), int64(4), object(6)\n",
      "memory usage: 686.6+ KB\n"
     ]
    }
   ],
   "source": [
    "df_filtered.info()"
   ]
  },
  {
   "cell_type": "code",
   "execution_count": 311,
   "metadata": {},
   "outputs": [],
   "source": [
    "df_filtered = df_filtered.dropna()"
   ]
  },
  {
   "cell_type": "code",
   "execution_count": 312,
   "metadata": {},
   "outputs": [
    {
     "data": {
      "text/plain": [
       "city            0\n",
       "ft              0\n",
       "bt              0\n",
       "km              0\n",
       "transmission    0\n",
       "ownerno         0\n",
       "model           0\n",
       "modelyear       0\n",
       "color           0\n",
       "cargo_volumn    0\n",
       "price           0\n",
       "dtype: int64"
      ]
     },
     "execution_count": 312,
     "metadata": {},
     "output_type": "execute_result"
    }
   ],
   "source": [
    "df_filtered.isna().sum()"
   ]
  },
  {
   "cell_type": "code",
   "execution_count": 313,
   "metadata": {},
   "outputs": [
    {
     "data": {
      "text/html": [
       "<div>\n",
       "<style scoped>\n",
       "    .dataframe tbody tr th:only-of-type {\n",
       "        vertical-align: middle;\n",
       "    }\n",
       "\n",
       "    .dataframe tbody tr th {\n",
       "        vertical-align: top;\n",
       "    }\n",
       "\n",
       "    .dataframe thead th {\n",
       "        text-align: right;\n",
       "    }\n",
       "</style>\n",
       "<table border=\"1\" class=\"dataframe\">\n",
       "  <thead>\n",
       "    <tr style=\"text-align: right;\">\n",
       "      <th></th>\n",
       "      <th>km</th>\n",
       "      <th>ownerno</th>\n",
       "      <th>modelyear</th>\n",
       "      <th>cargo_volumn</th>\n",
       "      <th>price</th>\n",
       "    </tr>\n",
       "  </thead>\n",
       "  <tbody>\n",
       "    <tr>\n",
       "      <th>count</th>\n",
       "      <td>8.362000e+03</td>\n",
       "      <td>8362.000000</td>\n",
       "      <td>8362.000000</td>\n",
       "      <td>8362.000000</td>\n",
       "      <td>8.362000e+03</td>\n",
       "    </tr>\n",
       "    <tr>\n",
       "      <th>mean</th>\n",
       "      <td>5.899777e+04</td>\n",
       "      <td>1.359962</td>\n",
       "      <td>2016.508371</td>\n",
       "      <td>361.718847</td>\n",
       "      <td>9.559904e+05</td>\n",
       "    </tr>\n",
       "    <tr>\n",
       "      <th>std</th>\n",
       "      <td>7.407727e+04</td>\n",
       "      <td>0.641666</td>\n",
       "      <td>3.904737</td>\n",
       "      <td>111.921104</td>\n",
       "      <td>1.411652e+06</td>\n",
       "    </tr>\n",
       "    <tr>\n",
       "      <th>min</th>\n",
       "      <td>0.000000e+00</td>\n",
       "      <td>0.000000</td>\n",
       "      <td>1985.000000</td>\n",
       "      <td>29.000000</td>\n",
       "      <td>2.016100e+04</td>\n",
       "    </tr>\n",
       "    <tr>\n",
       "      <th>25%</th>\n",
       "      <td>3.000000e+04</td>\n",
       "      <td>1.000000</td>\n",
       "      <td>2014.000000</td>\n",
       "      <td>285.000000</td>\n",
       "      <td>3.990000e+05</td>\n",
       "    </tr>\n",
       "    <tr>\n",
       "      <th>50%</th>\n",
       "      <td>5.372600e+04</td>\n",
       "      <td>1.000000</td>\n",
       "      <td>2017.000000</td>\n",
       "      <td>361.000000</td>\n",
       "      <td>6.015000e+05</td>\n",
       "    </tr>\n",
       "    <tr>\n",
       "      <th>75%</th>\n",
       "      <td>8.000000e+04</td>\n",
       "      <td>2.000000</td>\n",
       "      <td>2019.000000</td>\n",
       "      <td>420.000000</td>\n",
       "      <td>9.500000e+05</td>\n",
       "    </tr>\n",
       "    <tr>\n",
       "      <th>max</th>\n",
       "      <td>5.500000e+06</td>\n",
       "      <td>5.000000</td>\n",
       "      <td>2023.000000</td>\n",
       "      <td>1728.000000</td>\n",
       "      <td>4.150000e+07</td>\n",
       "    </tr>\n",
       "  </tbody>\n",
       "</table>\n",
       "</div>"
      ],
      "text/plain": [
       "                 km      ownerno    modelyear  cargo_volumn         price\n",
       "count  8.362000e+03  8362.000000  8362.000000   8362.000000  8.362000e+03\n",
       "mean   5.899777e+04     1.359962  2016.508371    361.718847  9.559904e+05\n",
       "std    7.407727e+04     0.641666     3.904737    111.921104  1.411652e+06\n",
       "min    0.000000e+00     0.000000  1985.000000     29.000000  2.016100e+04\n",
       "25%    3.000000e+04     1.000000  2014.000000    285.000000  3.990000e+05\n",
       "50%    5.372600e+04     1.000000  2017.000000    361.000000  6.015000e+05\n",
       "75%    8.000000e+04     2.000000  2019.000000    420.000000  9.500000e+05\n",
       "max    5.500000e+06     5.000000  2023.000000   1728.000000  4.150000e+07"
      ]
     },
     "execution_count": 313,
     "metadata": {},
     "output_type": "execute_result"
    }
   ],
   "source": [
    "df_filtered.describe()"
   ]
  },
  {
   "cell_type": "code",
   "execution_count": 314,
   "metadata": {},
   "outputs": [],
   "source": [
    "df_filtered.rename(columns= {'ft':\"fuel_type\",'bt':\"body_type\",'km':\"km_driven\"},inplace=True)"
   ]
  },
  {
   "cell_type": "code",
   "execution_count": 315,
   "metadata": {},
   "outputs": [],
   "source": [
    "df_filtered.to_csv(\"cleaned_df.csv\")"
   ]
  }
 ],
 "metadata": {
  "kernelspec": {
   "display_name": "Python 3",
   "language": "python",
   "name": "python3"
  },
  "language_info": {
   "codemirror_mode": {
    "name": "ipython",
    "version": 3
   },
   "file_extension": ".py",
   "mimetype": "text/x-python",
   "name": "python",
   "nbconvert_exporter": "python",
   "pygments_lexer": "ipython3",
   "version": "3.12.2"
  }
 },
 "nbformat": 4,
 "nbformat_minor": 2
}
